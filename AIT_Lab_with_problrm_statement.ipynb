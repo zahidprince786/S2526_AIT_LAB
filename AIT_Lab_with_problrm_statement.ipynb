{
  "nbformat": 4,
  "nbformat_minor": 0,
  "metadata": {
    "colab": {
      "provenance": [],
      "authorship_tag": "ABX9TyOaPlDuFeTylFr8mEg3FHsh",
      "include_colab_link": true
    },
    "kernelspec": {
      "name": "python3",
      "display_name": "Python 3"
    },
    "language_info": {
      "name": "python"
    }
  },
  "cells": [
    {
      "cell_type": "markdown",
      "metadata": {
        "id": "view-in-github",
        "colab_type": "text"
      },
      "source": [
        "<a href=\"https://colab.research.google.com/github/zahidprince786/S2526_AIT_LAB/blob/main/AIT_Lab_with_problrm_statement.ipynb\" target=\"_parent\"><img src=\"https://colab.research.google.com/assets/colab-badge.svg\" alt=\"Open In Colab\"/></a>"
      ]
    },
    {
      "cell_type": "markdown",
      "source": [
        "**Experiment 1:**\n",
        "Implementation of Graph search algorithms (Breadth first search and Depth First Search) using following constraints.\n",
        "\n",
        "BFS: Pick any node, visit the adjacent unvisited vertex, mark it as visited, display it, and insert it in a queue. \tIf there are no remaining adjacent vertices left, remove the first vertex from the queue. Apply recursion concept to follow the above steps until the queue is empty or the desired node is found.\n",
        "DFS: Pick any node. If it is unvisited, mark it as visited and recur on all its adjacent nodes. Repeat until all the nodes are visited, or the node to be searched is found.\n",
        "Tools- Python\n",
        "\n",
        "\n",
        "BFS:\n",
        "A city planner is designing a smart traffic control system for a metropolitan area. The road network is modeled as a graph, where each intersection is a node, and roads between intersections are edges with known travel times. The goal is to design a system that quickly determines the shortest path (minimum travel time) between two intersections during peak traffic hours to reroute emergency vehicles effectively. To achieve this, implement the Breadth-First Search (BFS) algorithm to identify the fastest route between any two given intersections. The BFS traversal must consider the travel time on each road to optimize the path, and should mark visited intersections and queue them appropriately until the shortest path is found.\n",
        "\n",
        "DFS\n",
        "A firefighting drone is deployed to search for fire hotspots in a dense forest, which is represented as a 2D grid. Each grid cell may be clear ('O'), obstructed ('X'), or contain a hotspot ('H'). The drone starts from a base station ('S') and must locate the nearest hotspot using Depth-First Search (DFS).\n",
        "The drone can move only in four directions: up, down, left, and right, and cannot fly over obstructed cells ('X').\n",
        "The task is to implement the DFS algorithm to explore the forest recursively, marking each visited cell and backtracking when a dead-end is encountered. The goal is to find a valid path from the starting point to any hotspot (‘H’) using DFS traversal.\n"
      ],
      "metadata": {
        "id": "6ofF9Gc7NzCs"
      }
    },
    {
      "cell_type": "code",
      "source": [
        "from collections import deque\n",
        "\n",
        "def bfs_shortest_path(graph, start, goal):\n",
        "    visited = set()\n",
        "    queue = deque([[start]])\n",
        "\n",
        "    if start == goal:\n",
        "        return [start]\n",
        "\n",
        "    while queue:\n",
        "        path = queue.popleft()\n",
        "        node = path[-1]\n",
        "\n",
        "        if node not in visited:\n",
        "            for neighbor in graph[node]:\n",
        "                new_path = list(path)\n",
        "                new_path.append(neighbor)\n",
        "                queue.append(new_path)\n",
        "\n",
        "                if neighbor == goal:\n",
        "                    return new_path\n",
        "            visited.add(node)\n",
        "\n",
        "    return None\n",
        "\n",
        "# Example graph representing intersections and roads\n",
        "city_graph = {\n",
        "    'A': ['B', 'C'],\n",
        "    'B': ['A', 'D', 'E'],\n",
        "    'C': ['A', 'F'],\n",
        "    'D': ['B'],\n",
        "    'E': ['B', 'F'],\n",
        "    'F': ['C', 'E']\n",
        "}\n",
        "\n",
        "# Test\n",
        "start = 'A'\n",
        "goal = 'F'\n",
        "shortest_path = bfs_shortest_path(city_graph, start, goal)\n",
        "print(\"Shortest path from\", start, \"to\", goal, \"is:\", shortest_path)\n"
      ],
      "metadata": {
        "colab": {
          "base_uri": "https://localhost:8080/"
        },
        "id": "uroK93nVOK7B",
        "outputId": "a3cf4b3c-7150-433f-8435-a3d6b7dea2eb"
      },
      "execution_count": null,
      "outputs": [
        {
          "output_type": "stream",
          "name": "stdout",
          "text": [
            "Shortest path from A to F is: ['A', 'C', 'F']\n"
          ]
        }
      ]
    },
    {
      "cell_type": "code",
      "source": [
        "def dfs_forest(grid, x, y, visited, path):\n",
        "    rows, cols = len(grid), len(grid[0])\n",
        "\n",
        "    # Boundary and obstacle check\n",
        "    if x < 0 or y < 0 or x >= rows or y >= cols or grid[x][y] == 'X' or visited[x][y]:\n",
        "        return False\n",
        "\n",
        "    path.append((x, y))\n",
        "    visited[x][y] = True\n",
        "\n",
        "    if grid[x][y] == 'H':\n",
        "        return True\n",
        "\n",
        "    # Move in 4 directions\n",
        "    for dx, dy in [(-1,0), (1,0), (0,-1), (0,1)]:\n",
        "        if dfs_forest(grid, x+dx, y+dy, visited, path):\n",
        "            return True\n",
        "\n",
        "    path.pop()\n",
        "    return False\n",
        "\n",
        "# Forest grid\n",
        "forest = [\n",
        "    ['S', 'O', 'X', 'O'],\n",
        "    ['X', 'O', 'X', 'O'],\n",
        "    ['O', 'O', 'O', 'H'],\n",
        "    ['X', 'X', 'O', 'X']\n",
        "]\n",
        "\n",
        "rows, cols = len(forest), len(forest[0])\n",
        "visited = [[False for _ in range(cols)] for _ in range(rows)]\n",
        "path = []\n",
        "\n",
        "# Find start point\n",
        "for i in range(rows):\n",
        "    for j in range(cols):\n",
        "        if forest[i][j] == 'S':\n",
        "            start_x, start_y = i, j\n",
        "\n",
        "found = dfs_forest(forest, start_x, start_y, visited, path)\n",
        "\n",
        "if found:\n",
        "    print(\"Path to hotspot:\", path)\n",
        "else:\n",
        "    print(\"No hotspot found.\")\n"
      ],
      "metadata": {
        "colab": {
          "base_uri": "https://localhost:8080/"
        },
        "id": "JqEMEqfIm8lv",
        "outputId": "5a0fb08f-5f6e-49f7-d270-64e9aaa18f54"
      },
      "execution_count": null,
      "outputs": [
        {
          "output_type": "stream",
          "name": "stdout",
          "text": [
            "Path to hotspot: [(0, 0), (0, 1), (1, 1), (2, 1), (2, 2), (2, 3)]\n"
          ]
        }
      ]
    },
    {
      "cell_type": "markdown",
      "source": [
        "**Experiment 2:** Implementation of Hill climbing algorithm for Heuristic search approach using following constraints in python.\n",
        "i.\tCreate a function generating all neighbours of a solution\n",
        "ii.\tCreate a function calculating the length of a route\n",
        "iii.\tCreate a random solution generator\n",
        "iv.  Create a Travelling salesman problem\n",
        "Tools- Python, Online Simulator - https://graphonline.ru/en/\n",
        "\n",
        "PROBLEM STATEMENT: \t\t\t\t\t\t\t\tCO1         S3\n",
        "\n",
        "A logistics company employs autonomous warehouse robots to pick and deliver items from shelves to packaging stations in a large grid-based warehouse. The warehouse layout is represented as a 2D grid, with some cells blocked by shelves ('X'), while others are open for movement ('O'). The robot starts at a designated starting point 'S' and must reach the packaging station marked 'G'.\n",
        "To optimize the robot’s movement path and avoid congestion or inefficient routes, implement a hill-climbing algorithm that uses a heuristic to minimize the distance from the current position to the packaging station.\n",
        "The task is to generate all valid neighbor positions (moves) from the current position. Use a heuristic (e.g., Manhattan distance) to guide movement. Avoid local maxima or dead ends by comparing neighboring heuristic values. Ensure the robot reaches the goal with minimal steps.\n",
        "\n"
      ],
      "metadata": {
        "id": "s5Ttp1mfNdeP"
      }
    },
    {
      "cell_type": "code",
      "source": [
        "import random\n",
        "\n",
        "# Sample 2D grid (5x6)\n",
        "warehouse = [\n",
        "    ['S', 'O', 'O', 'X', 'O', 'O'],\n",
        "    ['X', 'X', 'O', 'X', 'O', 'X'],\n",
        "    ['O', 'O', 'O', 'O', 'O', 'O'],\n",
        "    ['O', 'X', 'X', 'X', 'X', 'O'],\n",
        "    ['O', 'O', 'O', 'O', 'G', 'O']\n",
        "]\n",
        "\n",
        "# Define goal and start\n",
        "def find_position(grid, char):\n",
        "    for i in range(len(grid)):\n",
        "        for j in range(len(grid[0])):\n",
        "            if grid[i][j] == char:\n",
        "                return (i, j)\n",
        "\n",
        "start = find_position(warehouse, 'S')\n",
        "goal = find_position(warehouse, 'G')\n",
        "\n",
        "# Manhattan distance heuristic\n",
        "def heuristic(pos, goal):\n",
        "    return abs(pos[0] - goal[0]) + abs(pos[1] - goal[1])\n",
        "\n",
        "# Valid neighbors (up, down, left, right)\n",
        "def get_neighbors(grid, position):\n",
        "    x, y = position\n",
        "    moves = [(-1, 0), (1, 0), (0, -1), (0, 1)]\n",
        "    neighbors = []\n",
        "    for dx, dy in moves:\n",
        "        nx, ny = x + dx, y + dy\n",
        "        if 0 <= nx < len(grid) and 0 <= ny < len(grid[0]):\n",
        "            if grid[nx][ny] in ['O', 'G']:  # not blocked\n",
        "                neighbors.append((nx, ny))\n",
        "    return neighbors\n",
        "\n",
        "# Hill Climbing Algorithm\n",
        "def hill_climbing(grid, start, goal):\n",
        "    current = start\n",
        "    path = [current]\n",
        "\n",
        "    while current != goal:\n",
        "        neighbors = get_neighbors(grid, current)\n",
        "        if not neighbors:\n",
        "            print(\"Stuck at local maximum. No path to goal.\")\n",
        "            return path\n",
        "\n",
        "        next_move = min(neighbors, key=lambda n: heuristic(n, goal))\n",
        "        if heuristic(next_move, goal) >= heuristic(current, goal):\n",
        "            print(\"Reached local maximum. Cannot improve further.\")\n",
        "            return path\n",
        "\n",
        "        current = next_move\n",
        "        path.append(current)\n",
        "\n",
        "    return path\n",
        "\n",
        "# Run the algorithm\n",
        "path = hill_climbing(warehouse, start, goal)\n",
        "\n",
        "# Print path\n",
        "print(\"\\nPath found:\")\n",
        "for step in path:\n",
        "    print(step)"
      ],
      "metadata": {
        "colab": {
          "base_uri": "https://localhost:8080/"
        },
        "id": "XEYYLUVoNkwW",
        "outputId": "5ecdccef-dd7d-417c-fe0f-0f56d50b9e53"
      },
      "execution_count": null,
      "outputs": [
        {
          "output_type": "stream",
          "name": "stdout",
          "text": [
            "Reached local maximum. Cannot improve further.\n",
            "\n",
            "Path found:\n",
            "(0, 0)\n",
            "(0, 1)\n",
            "(0, 2)\n",
            "(1, 2)\n",
            "(2, 2)\n",
            "(2, 3)\n",
            "(2, 4)\n"
          ]
        }
      ]
    },
    {
      "cell_type": "markdown",
      "source": [
        "**Experiment 3:** Implementation of A * Algorithm to find the optimal path using Python by following constraints.\n",
        "•The goal of the A* algorithm is to find the shortest path from the starting point to the goal point as fast as possible.\n",
        "•The full path cost (f) for each node is calculated as the distance to the starting node (g) plus the distance to the goal node (h).\n",
        "•Distances is calculated as the manhattan distance (taxicab geometry) between nodes.\n",
        "\n",
        "PROBLEM STATEMENT:\n",
        "\n",
        "A disaster management team is developing an emergency evacuation planner for a flood-affected city. The city is modelled as a graph, where each node represents a safe zone or intersection, and edges represent possible routes, each with a known traversal cost like time or distance. To ensure the fastest evacuation path for rescue vehicles from an emergency site to a relief centre, you are asked to implement the A* algorithm in Python. The heuristic function will estimate the cost to the goal using Manhattan distance, guiding the search intelligently toward the optimal path.\n",
        "The task is to use the A* algorithm to compute the shortest path from the emergency site to the relief centre. Calculate the full cost f(n) = g(n) + h(n) for each node, where g(n) is the actual cost from the start, and h(n) is the heuristic estimate to the goal using taxicab geometry. Calculate the optimal route and the total cost.\n"
      ],
      "metadata": {
        "id": "NhwNphxqNwu5"
      }
    },
    {
      "cell_type": "code",
      "source": [
        "import heapq\n",
        "\n",
        "def manhattan_distance(a, b):\n",
        "    return abs(a[0] - b[0]) + abs(a[1] - b[1])\n",
        "\n",
        "def a_star_search(start, goal, graph):\n",
        "    open_list = []\n",
        "    heapq.heappush(open_list, (0, start))  # (f, node)\n",
        "\n",
        "    came_from = {}\n",
        "    g_score = {node: float('inf') for node in graph}\n",
        "    g_score[start] = 0\n",
        "\n",
        "    f_score = {node: float('inf') for node in graph}\n",
        "    f_score[start] = manhattan_distance(start, goal)\n",
        "\n",
        "    while open_list:\n",
        "        current_f, current = heapq.heappop(open_list)\n",
        "\n",
        "        if current == goal:\n",
        "            # reconstruct path\n",
        "            path = []\n",
        "            total_cost = g_score[goal]\n",
        "            while current in came_from:\n",
        "                path.append(current)\n",
        "                current = came_from[current]\n",
        "            path.append(start)\n",
        "            path.reverse()\n",
        "            return path, total_cost\n",
        "\n",
        "        for neighbor, cost in graph[current]:\n",
        "            tentative_g = g_score[current] + cost\n",
        "            if tentative_g < g_score[neighbor]:\n",
        "                came_from[neighbor] = current\n",
        "                g_score[neighbor] = tentative_g\n",
        "                f_score[neighbor] = tentative_g + manhattan_distance(neighbor, goal)\n",
        "                heapq.heappush(open_list, (f_score[neighbor], neighbor))\n",
        "\n",
        "    return None, float('inf')\n",
        "graph = {\n",
        "    (0, 0): [((1, 0), 1), ((0, 1), 4)],\n",
        "    (1, 0): [((0, 0), 1), ((1, 1), 2)],\n",
        "    (0, 1): [((0, 0), 4), ((1, 1), 3)],\n",
        "    (1, 1): [((1, 0), 2), ((0, 1), 3), ((2, 1), 1)],\n",
        "    (2, 1): [((1, 1), 1), ((2, 2), 2)],\n",
        "    (2, 2): [((2, 1), 2)]\n",
        "}\n",
        "\n",
        "start = (0, 0)\n",
        "goal = (2, 2)\n",
        "\n",
        "path, cost = a_star_search(start, goal, graph)\n",
        "print(\"Optimal Path:\", path)\n",
        "print(\"Total Cost:\", cost)\n"
      ],
      "metadata": {
        "colab": {
          "base_uri": "https://localhost:8080/"
        },
        "id": "sVCdu6z_uPR1",
        "outputId": "39822d6a-fae4-4f75-9872-bd06be7d72da"
      },
      "execution_count": null,
      "outputs": [
        {
          "output_type": "stream",
          "name": "stdout",
          "text": [
            "Optimal Path: [(0, 0), (1, 0), (1, 1), (2, 1), (2, 2)]\n",
            "Total Cost: 6\n"
          ]
        }
      ]
    },
    {
      "cell_type": "markdown",
      "source": [
        "**Experiment 4:** Implementation of Mini-Max algorithm uses recursion to search through the game-tree using python by applying following constraints.\n",
        "•In this algorithm two players play the checker’s game; one is called MAX and other is called MIN.\n",
        "•Both the players fight it as the opponent player gets the minimum benefit while they get the maximum benefit.\n",
        "•Both Players of the game are opponent of each other, where MAX will select the maximized value and MIN will select the minimized value.\n",
        "•The minimax algorithm performs a depth-first search algorithm for the exploration of the complete game tree.\n",
        "•The minimax algorithm proceeds all the way down to the terminal node of the tree, then backtrack the tree as the recursion.\n",
        "Tools : Python\n",
        "\n",
        "PROBLEM STATEMENT:\n",
        "\n",
        "You are designing an AI opponent for the popular two-player game of Tic-Tac-Toe. The game is played on a 3x3 grid where players take turns marking cells, one with X (MAX player) and the other with O (MIN player). The goal is to get three of your marks in a row (horizontally, vertically, or diagonally).\n",
        "To make the AI play intelligently, the task is to implement the Mini-Max algorithm using recursion in Python. The algorithm should explore all possible moves (game tree) from the current board position. Use MAX to simulate the AI’s turn and MIN to simulate the opponent’s turn. Evaluate each final (terminal) board state to choose the best possible move for the AI (MAX), assuming the opponent (MIN) also plays optimally. The AI should return the move that maximizes its chance of winning or minimizes the chance of losing.\n"
      ],
      "metadata": {
        "id": "xbHKqCvc-nsk"
      }
    },
    {
      "cell_type": "code",
      "source": [
        "def print_board(board):\n",
        "    for row in board:\n",
        "        print(row)\n",
        "    print()\n",
        "\n",
        "def check_winner(board):\n",
        "    for i in range(3):\n",
        "        if board[i][0] == board[i][1] == board[i][2] != '_':\n",
        "            return board[i][0]\n",
        "        if board[0][i] == board[1][i] == board[2][i] != '_':\n",
        "            return board[0][i]\n",
        "    if board[0][0] == board[1][1] == board[2][2] != '_':\n",
        "        return board[0][0]\n",
        "    if board[0][2] == board[1][1] == board[2][0] != '_':\n",
        "        return board[0][2]\n",
        "    return None\n",
        "\n",
        "def is_full(board):\n",
        "    return all(cell != '_' for row in board for cell in row)\n",
        "\n",
        "def minimax(board, is_maximizing):\n",
        "    winner = check_winner(board)\n",
        "    if winner == 'X':\n",
        "        return 1\n",
        "    elif winner == 'O':\n",
        "        return -1\n",
        "    elif is_full(board):\n",
        "        return 0\n",
        "\n",
        "    if is_maximizing:\n",
        "        best_score = -float('inf')\n",
        "        for i in range(3):\n",
        "            for j in range(3):\n",
        "                if board[i][j] == '_':\n",
        "                    board[i][j] = 'X'\n",
        "                    score = minimax(board, False)\n",
        "                    board[i][j] = '_'\n",
        "                    best_score = max(score, best_score)\n",
        "        return best_score\n",
        "    else:\n",
        "        best_score = float('inf')\n",
        "        for i in range(3):\n",
        "            for j in range(3):\n",
        "                if board[i][j] == '_':\n",
        "                    board[i][j] = 'O'\n",
        "                    score = minimax(board, True)\n",
        "                    board[i][j] = '_'\n",
        "                    best_score = min(score, best_score)\n",
        "        return best_score\n",
        "\n",
        "def best_move(board):\n",
        "    best_score = -float('inf')\n",
        "    move = None\n",
        "    for i in range(3):\n",
        "        for j in range(3):\n",
        "            if board[i][j] == '_':\n",
        "                board[i][j] = 'X'\n",
        "                score = minimax(board, False)\n",
        "                board[i][j] = '_'\n",
        "                if score > best_score:\n",
        "                    best_score = score\n",
        "                    move = (i, j)\n",
        "    return move\n",
        "board = [\n",
        "    ['X', 'O', 'X'],\n",
        "    ['_', 'O', '_'],\n",
        "    ['_', '_', '_']\n",
        "]\n",
        "\n",
        "print(\"Current Board:\")\n",
        "print_board(board)\n",
        "\n",
        "move = best_move(board)\n",
        "print(f\"AI recommends move at position: {move}\")\n"
      ],
      "metadata": {
        "colab": {
          "base_uri": "https://localhost:8080/"
        },
        "id": "vCX2TrKm-wDP",
        "outputId": "303c0a9c-f5fe-4e85-dfd6-bae7ce6dc9b6"
      },
      "execution_count": null,
      "outputs": [
        {
          "output_type": "stream",
          "name": "stdout",
          "text": [
            "Current Board:\n",
            "['X', 'O', 'X']\n",
            "['_', 'O', '_']\n",
            "['_', '_', '_']\n",
            "\n",
            "AI recommends move at position: (2, 1)\n"
          ]
        }
      ]
    },
    {
      "cell_type": "markdown",
      "source": [
        "**Experiment 5:** Implementation of Ant Colony Optimization to Optimize Ride-Sharing Trip Duration using Python by following constraints.\n",
        "•To forecast travel times between every pair of pick-up and drop-off locations.\n",
        "•To find the shortest route that visits a set of locations.\n",
        "•To implement optimization techniques are required to intelligently search the solution space and find near-optimal solutions.\n",
        "Tools: Python\n",
        "\n",
        "PROBLEM STATEMENT:\n",
        "\n",
        "A food delivery app wants to optimize the route of a delivery driver who has to deliver meals to multiple customers in different locations as quickly as possible. The city is modeled as a graph, where each node is a delivery point, and edges represent travel time between them. To handle this efficiently, you will implement the Ant Colony Optimization (ACO) algorithm in Python.\n",
        "The task is to estimate travel times between all delivery points. Use ACO to find the best delivery route that reduces total trip duration. Simulate ants exploring possible paths, updating pheromone levels, and using heuristics to choose the most promising routes. The goal is to deliver food quickly and efficiently by finding near-optimal delivery routes through ACO.\n"
      ],
      "metadata": {
        "id": "tr-sWDZVC5gK"
      }
    },
    {
      "cell_type": "code",
      "source": [
        "import random\n",
        "import numpy as np\n",
        "\n",
        "# Distance matrix (simulated travel time between delivery points)\n",
        "distance_matrix = [\n",
        "    [0, 2, 2, 5, 7],\n",
        "    [2, 0, 4, 8, 2],\n",
        "    [2, 4, 0, 1, 3],\n",
        "    [5, 8, 1, 0, 2],\n",
        "    [7, 2, 3, 2, 0]\n",
        "]\n",
        "\n",
        "num_ants = 5\n",
        "num_cities = len(distance_matrix)\n",
        "num_iterations = 100\n",
        "evaporation_rate = 0.5\n",
        "alpha = 1  # pheromone importance\n",
        "beta = 2   # distance importance\n",
        "\n",
        "# Initialize pheromone levels\n",
        "pheromone = [[1 for _ in range(num_cities)] for _ in range(num_cities)]\n",
        "\n",
        "def calculate_probability(from_city, to_city, visited):\n",
        "    if to_city in visited:\n",
        "        return 0\n",
        "    pher = pheromone[from_city][to_city] ** alpha\n",
        "    heuristic = (1 / distance_matrix[from_city][to_city]) ** beta\n",
        "    return pher * heuristic\n",
        "\n",
        "def select_next_city(current_city, visited):\n",
        "    probabilities = [calculate_probability(current_city, i, visited) for i in range(num_cities)]\n",
        "    total = sum(probabilities)\n",
        "    if total == 0:\n",
        "        return random.choice([i for i in range(num_cities) if i not in visited])\n",
        "    probabilities = [p / total for p in probabilities]\n",
        "    return np.random.choice(range(num_cities), p=probabilities)\n",
        "\n",
        "def build_solution():\n",
        "    solutions = []\n",
        "    for _ in range(num_ants):\n",
        "        visited = []\n",
        "        current_city = random.randint(0, num_cities - 1)\n",
        "        visited.append(current_city)\n",
        "\n",
        "        while len(visited) < num_cities:\n",
        "            next_city = select_next_city(current_city, visited)\n",
        "            visited.append(next_city)\n",
        "            current_city = next_city\n",
        "        solutions.append(visited)\n",
        "    return solutions\n",
        "\n",
        "def route_distance(route):\n",
        "    return sum(distance_matrix[route[i]][route[i + 1]] for i in range(len(route) - 1)) + distance_matrix[route[-1]][route[0]]\n",
        "\n",
        "def update_pheromones(solutions):\n",
        "    global pheromone\n",
        "    for i in range(num_cities):\n",
        "        for j in range(num_cities):\n",
        "            pheromone[i][j] *= (1 - evaporation_rate)\n",
        "\n",
        "    for route in solutions:\n",
        "        dist = route_distance(route)\n",
        "        for i in range(num_cities):\n",
        "            from_city = route[i]\n",
        "            to_city = route[(i + 1) % num_cities]\n",
        "            pheromone[from_city][to_city] += 1.0 / dist\n",
        "\n",
        "best_route = None\n",
        "best_distance = float('inf')\n",
        "\n",
        "for _ in range(num_iterations):\n",
        "    solutions = build_solution()\n",
        "    update_pheromones(solutions)\n",
        "\n",
        "    for route in solutions:\n",
        "        dist = route_distance(route)\n",
        "        if dist < best_distance:\n",
        "            best_distance = dist\n",
        "            best_route = route\n",
        "\n",
        "print(\"Best route found:\", best_route)\n",
        "print(\"Total trip duration:\", best_distance)\n"
      ],
      "metadata": {
        "colab": {
          "base_uri": "https://localhost:8080/"
        },
        "id": "dtFDOK3PDCSK",
        "outputId": "67d2b1dc-67d2-4283-da89-23c709198bd9"
      },
      "execution_count": null,
      "outputs": [
        {
          "output_type": "stream",
          "name": "stdout",
          "text": [
            "Best route found: [1, np.int64(4), np.int64(3), np.int64(2), np.int64(0)]\n",
            "Total trip duration: 9\n"
          ]
        }
      ]
    },
    {
      "cell_type": "markdown",
      "source": [
        "**Experiment 6:** Solve a Map Coloring problem using constraint satisfaction approach by applying following constraints\n",
        "•Assign each territory a color such that no two adjacent territories have the same color by considering following parameters: Domains, Variables and Constraints\n",
        "•Apply Basic Greedy Coloring Algorithm:  Color first vertex with first color, do following for remaining V-1 vertices.\n",
        "•Consider the currently picked vertex and color it with the lowest numbered color that has not been used on any previously colored vertices adjacent to it. If all previously used colors appear on vertices adjacent to v, assign a new color to it.\n",
        "Tools- Python, Online Simulator - https://graphonline.ru/en/\n",
        "\n",
        "PROBLEM STATEMENT:\n",
        "\n",
        "A school wants to organize a classroom seating plan for a group of students. To make it easy to identify student groups, each student will wear a color tag. But here's the catch: no two students sitting next to each other (left, right, front, or back) can wear the same color tag. The classroom is arranged as a graph, where each seat is a node, and an edge connects any two seats that are next to each other.\n",
        "The task is to use the constraint satisfaction approach to assign colors to each student (seat). Apply the greedy coloring algorithm. Color the first seat with the first color. For each next seat, choose the lowest numbered color that hasn’t been used by any adjacent (neighboring) seats. If no color is available, assign a new color.\n"
      ],
      "metadata": {
        "id": "gaLJVy7AHdVA"
      }
    },
    {
      "cell_type": "code",
      "source": [
        "import networkx as nx\n",
        "import matplotlib.pyplot as plt\n",
        "\n",
        "# Define the graph (Classroom seating as adjacency list)\n",
        "graph = {\n",
        "    'A': ['B', 'D'],\n",
        "    'B': ['A', 'C', 'E'],\n",
        "    'C': ['B', 'F'],\n",
        "    'D': ['A', 'E', 'G'],\n",
        "    'E': ['B', 'D', 'F', 'H'],\n",
        "    'F': ['C', 'E', 'I'],\n",
        "    'G': ['D', 'H'],\n",
        "    'H': ['E', 'G', 'I'],\n",
        "    'I': ['F', 'H']\n",
        "}\n",
        "\n",
        "# Available color palette (extendable if needed)\n",
        "color_palette = ['red', 'green', 'blue', 'yellow', 'orange', 'purple', 'cyan', 'brown']\n",
        "\n",
        "# Greedy coloring algorithm\n",
        "def greedy_coloring(graph):\n",
        "    color_assignment = {}\n",
        "    for node in graph:\n",
        "        # Collect used colors from adjacent nodes\n",
        "        used_colors = {color_assignment.get(neigh) for neigh in graph[node] if neigh in color_assignment}\n",
        "        # Assign the lowest unused color\n",
        "        for color in color_palette:\n",
        "            if color not in used_colors:\n",
        "                color_assignment[node] = color\n",
        "                break\n",
        "    return color_assignment\n",
        "\n",
        "# Apply the greedy coloring\n",
        "coloring_result = greedy_coloring(graph)\n",
        "\n",
        "# Create a graph using NetworkX\n",
        "G = nx.Graph()\n",
        "for node, neighbors in graph.items():\n",
        "    for neighbor in neighbors:\n",
        "        G.add_edge(node, neighbor)\n",
        "\n",
        "# Prepare node colors from coloring result\n",
        "node_colors = [coloring_result[node] for node in G.nodes()]\n",
        "\n",
        "# Set positions manually to mimic a 3x3 classroom seating grid\n",
        "positions = {\n",
        "    'A': (0, 2),\n",
        "    'B': (1, 2),\n",
        "    'C': (2, 2),\n",
        "    'D': (0, 1),\n",
        "    'E': (1, 1),\n",
        "    'F': (2, 1),\n",
        "    'G': (0, 0),\n",
        "    'H': (1, 0),\n",
        "    'I': (2, 0)\n",
        "}\n",
        "\n",
        "# Plotting the graph\n",
        "plt.figure(figsize=(8, 6))\n",
        "nx.draw(G, pos=positions, with_labels=True, node_color=node_colors, node_size=1200, font_size=14, font_weight='bold')\n",
        "plt.title(\"Classroom Seating Plan - Greedy Coloring\", fontsize=16)\n",
        "plt.axis('off')\n",
        "plt.show()\n",
        "\n",
        "# Print the color assignment\n",
        "print(\"Seat : Assigned Color\")\n",
        "for seat, color in coloring_result.items():\n",
        "    print(f\"{seat} : {color}\")\n"
      ],
      "metadata": {
        "colab": {
          "base_uri": "https://localhost:8080/",
          "height": 835
        },
        "id": "ncJTHqvpKjMa",
        "outputId": "3fd7cb0f-e9e4-4424-ab1c-d988bf4f4449"
      },
      "execution_count": null,
      "outputs": [
        {
          "output_type": "display_data",
          "data": {
            "text/plain": [
              "<Figure size 800x600 with 1 Axes>"
            ],
            "image/png": "[encoded data removed]"
          },
          "metadata": {}
        },
        {
          "output_type": "stream",
          "name": "stdout",
          "text": [
            "Seat : Assigned Color\n",
            "A : red\n",
            "B : green\n",
            "C : red\n",
            "D : green\n",
            "E : red\n",
            "F : green\n",
            "G : red\n",
            "H : green\n",
            "I : red\n"
          ]
        }
      ]
    },
    {
      "cell_type": "markdown",
      "source": [
        "**Experiment 7:** Implementation of Monkey Banana Problem in Goal Stack planning using python by applying following constraints.\n",
        "Imagine a room containing a monkey, chair and some bananas. That have been hanged from the centre of ceiling. If the monkey is clever enough, he can reach the bananas by placing the chair directly below the bananas and climb on the chair. The problem is to prove the monkey can reach the bananas. The monkey wants it, but cannot jump high enough from the floor. At the window of the room there is a box that the monkey can use. The monkey can perform the Following actions: -\n",
        "1) Walk on the floor.\n",
        "2) Climb the box.\n",
        "3) Push the box around (if it is beside the box).\n",
        "4) Grasp the banana if it is standing on the box directly under the banana.\n",
        "Tools: Python\n",
        "\n",
        "PROBLEM STATEMENT:\n",
        "A playful puppy is trying to get its favorite toy placed on a high shelf in the living room. The puppy cannot jump high enough, but notices a small box nearby that can help. The room is shown as a 2D grid, with the puppy starting in one corner and the toy on a high shelf. The puppy can move (walk) across the floor, push the box to any location (if next to it), climb on top of the box, and grab the toy (if standing on the box directly below the shelf).\n",
        "Using Goal Stack Planning, implement a solution in Python that helps the puppy plan the correct sequence of steps, navigate around any obstacles, and use the box smartly to finally reach and grab the toy.\n",
        "\n"
      ],
      "metadata": {
        "id": "WQ5h2CaGNX46"
      }
    },
    {
      "cell_type": "code",
      "source": [
        "# Grid coordinates: (x, y)\n",
        "toy_position = (2, 2)         # Toy is placed at center ceiling\n",
        "box_position = [0, 0]         # Initial box position\n",
        "puppy_position = [0, 1]       # Puppy starts in corner\n",
        "has_toy = False\n",
        "on_box = False\n",
        "\n",
        "# Action log\n",
        "actions = []\n",
        "\n",
        "# Define room size (optional for visualization)\n",
        "room_size = 3  # 3x3 grid\n",
        "\n",
        "# Define helper functions\n",
        "def walk(to):\n",
        "    global puppy_position\n",
        "    actions.append(f\"Walk from {tuple(puppy_position)} to {to}\")\n",
        "    puppy_position[0], puppy_position[1] = to\n",
        "\n",
        "def push_box(to):\n",
        "    global puppy_position, box_position\n",
        "    actions.append(f\"Push box from {tuple(box_position)} to {to}\")\n",
        "    box_position[0], box_position[1] = to\n",
        "    puppy_position[0], puppy_position[1] = to  # Puppy moves with box\n",
        "\n",
        "def climb_box():\n",
        "    global on_box\n",
        "    actions.append(\"Climb on box\")\n",
        "    on_box = True\n",
        "\n",
        "def grab_toy():\n",
        "    global has_toy\n",
        "    actions.append(\"Grab the toy\")\n",
        "    has_toy = True\n",
        "\n",
        "# Goal Stack Planning\n",
        "def goal_stack_planning():\n",
        "    stack = ['HasToy']\n",
        "\n",
        "    while stack:\n",
        "        goal = stack.pop()\n",
        "\n",
        "        if goal == 'HasToy':\n",
        "            if has_toy:\n",
        "                continue\n",
        "            # Preconditions for grabbing toy\n",
        "            if puppy_position == box_position == list(toy_position) and on_box:\n",
        "                grab_toy()\n",
        "            else:\n",
        "                stack.append('HasToy')  # Retry after subgoals\n",
        "                stack.append('OnBox')\n",
        "                stack.append(('MoveBoxUnderToy', toy_position))\n",
        "\n",
        "        elif goal == 'OnBox':\n",
        "            if on_box:\n",
        "                continue\n",
        "            if puppy_position == box_position:\n",
        "                climb_box()\n",
        "            else:\n",
        "                stack.append('OnBox')\n",
        "                stack.append(('WalkTo', tuple(box_position)))\n",
        "\n",
        "        elif isinstance(goal, tuple) and goal[0] == 'MoveBoxUnderToy':\n",
        "            if box_position == list(goal[1]):\n",
        "                continue\n",
        "            stack.append(('MoveBoxUnderToy', goal[1]))\n",
        "            stack.append(('WalkTo', tuple(box_position)))\n",
        "            stack.append(('PushBoxTo', goal[1]))\n",
        "\n",
        "        elif isinstance(goal, tuple) and goal[0] == 'WalkTo':\n",
        "            if puppy_position == list(goal[1]):\n",
        "                continue\n",
        "            walk(goal[1])\n",
        "\n",
        "        elif isinstance(goal, tuple) and goal[0] == 'PushBoxTo':\n",
        "            if box_position == list(goal[1]):\n",
        "                continue\n",
        "            push_box(goal[1])\n",
        "\n",
        "# Run the planner\n",
        "goal_stack_planning()\n",
        "\n",
        "# Display the steps\n",
        "print(\"\\nPlan to achieve goal:\")\n",
        "for step in actions:\n",
        "    print(\"→\", step)\n",
        "\n",
        "# Final state\n",
        "print(\"\\nFinal State:\")\n",
        "print(\"Puppy Position:\", tuple(puppy_position))\n",
        "print(\"Box Position:\", tuple(box_position))\n",
        "print(\"On Box:\", on_box)\n",
        "print(\"Has Toy:\", has_toy)\n"
      ],
      "metadata": {
        "colab": {
          "base_uri": "https://localhost:8080/"
        },
        "id": "ThBr9zzqNexR",
        "outputId": "aeb3da2f-db0e-4a4e-8c6e-55a1e70e0cf3"
      },
      "execution_count": null,
      "outputs": [
        {
          "output_type": "stream",
          "name": "stdout",
          "text": [
            "\n",
            "Plan to achieve goal:\n",
            "→ Push box from (0, 0) to (2, 2)\n",
            "→ Walk from (2, 2) to (0, 0)\n",
            "→ Walk from (0, 0) to (2, 2)\n",
            "→ Climb on box\n",
            "→ Grab the toy\n",
            "\n",
            "Final State:\n",
            "Puppy Position: (2, 2)\n",
            "Box Position: (2, 2)\n",
            "On Box: True\n",
            "Has Toy: True\n"
          ]
        }
      ]
    },
    {
      "cell_type": "markdown",
      "source": [
        "**Experiment 8: ** Implementation of N-queen problem using backtracking algorithm using python\n",
        "In the 4 Queens problem the object is to place 4 queens on a chessboard in such a way that no queens can capture a piece. This means that no two queens may be placed on the same row, column, or diagonal.\n",
        "\n",
        "Tools: Python\n",
        "\n",
        "PROBLEM STATEMENT:\n",
        "Imagine a museum with multiple rooms arranged like a chessboard grid. Your job is to place 4 security guards in such a way that no two guards can watch each other. A guard can monitor all rooms in the same row, all rooms in the same column, and all rooms diagonally.\n",
        "Using the backtracking algorithm in Python, implement a program to place 4 guards on a 4x4 grid (one per row), Ensure that no guard is under surveillance by another, and display all possible valid arrangements.\n",
        "\n"
      ],
      "metadata": {
        "id": "WnlnwyqJS4OJ"
      }
    },
    {
      "cell_type": "code",
      "source": [
        "N = 4  # Size of the grid\n",
        "\n",
        "# Function to print the board\n",
        "def print_board(board):\n",
        "    for row in board:\n",
        "        print(\" \".join('G' if col else '.' for col in row))\n",
        "    print()\n",
        "\n",
        "# Check if it's safe to place a guard at board[row][col]\n",
        "def is_safe(board, row, col):\n",
        "    # Check vertical up\n",
        "    for i in range(row):\n",
        "        if board[i][col] == 1:\n",
        "            return False\n",
        "\n",
        "    # Check upper left diagonal\n",
        "    i, j = row - 1, col - 1\n",
        "    while i >= 0 and j >= 0:\n",
        "        if board[i][j] == 1:\n",
        "            return False\n",
        "        i -= 1\n",
        "        j -= 1\n",
        "\n",
        "    # Check upper right diagonal\n",
        "    i, j = row - 1, col + 1\n",
        "    while i >= 0 and j < N:\n",
        "        if board[i][j] == 1:\n",
        "            return False\n",
        "        i -= 1\n",
        "        j += 1\n",
        "\n",
        "    return True\n",
        "\n",
        "# Backtracking function\n",
        "def solve_n_queens(board, row):\n",
        "    if row == N:\n",
        "        print_board(board)\n",
        "        return True\n",
        "\n",
        "    res = False\n",
        "    for col in range(N):\n",
        "        if is_safe(board, row, col):\n",
        "            board[row][col] = 1\n",
        "            res = solve_n_queens(board, row + 1) or res\n",
        "            board[row][col] = 0  # Backtrack\n",
        "\n",
        "    return res\n",
        "\n",
        "# Initialize the board\n",
        "board = [[0 for _ in range(N)] for _ in range(N)]\n",
        "\n",
        "print(\"Valid configurations for placing 4 guards:\\n\")\n",
        "solve_n_queens(board, 0)\n"
      ],
      "metadata": {
        "colab": {
          "base_uri": "https://localhost:8080/"
        },
        "id": "cju8bNHuS8t-",
        "outputId": "a6661336-a980-4587-8d88-0a08724fc996"
      },
      "execution_count": null,
      "outputs": [
        {
          "output_type": "stream",
          "name": "stdout",
          "text": [
            "Valid configurations for placing 4 guards:\n",
            "\n",
            ". G . .\n",
            ". . . G\n",
            "G . . .\n",
            ". . G .\n",
            "\n",
            ". . G .\n",
            "G . . .\n",
            ". . . G\n",
            ". G . .\n",
            "\n"
          ]
        },
        {
          "output_type": "execute_result",
          "data": {
            "text/plain": [
              "True"
            ]
          },
          "metadata": {},
          "execution_count": 18
        }
      ]
    },
    {
      "cell_type": "markdown",
      "source": [
        "**Experiment 10:** Implement simple fact for following:\n",
        "a. Ram likes mango.\n",
        "b. Seema is a girl.\n",
        "c. Bill likes Cindy.\n",
        " d. Rose is red.\n",
        "e. John owns gold.\n",
        "Tools-Prolog\n",
        "\n",
        "PROBLEM STATEMENT:\n",
        "\n",
        "Develop a simple fact-based knowledge representation system using logic-based programming (Prolog or Python).\n",
        "Implement and store the following facts in the knowledge base:\n",
        "•\tRam likes mango\n",
        "•\tSeema is a girl\n",
        "•\tBill likes Cindy\n",
        "•\tRose is red\n",
        "•\tJohn owns gold\n",
        "Provide support for answering simple queries like:\n",
        "•\tIs Seema a girl?\n",
        "•\tDoes Bill like someone?\n",
        "•\tWhat color is Rose?\n"
      ],
      "metadata": {
        "id": "p84w6tUmVTpi"
      }
    },
    {
      "cell_type": "code",
      "source": [
        "# Simple Knowledge Base using dictionaries\n",
        "\n",
        "# Knowledge Base: Each key is a predicate with subject-object pairs\n",
        "knowledge_base = {\n",
        "    'likes': {\n",
        "        'Ram': 'Mango',\n",
        "        'Bill': 'Cindy'\n",
        "    },\n",
        "    'is_a': {\n",
        "        'Seema': 'Girl'\n",
        "    },\n",
        "    'color': {\n",
        "        'Rose': 'Red'\n",
        "    },\n",
        "    'owns': {\n",
        "        'John': 'Gold'\n",
        "    }\n",
        "}\n",
        "\n",
        "# Query 1: Is Seema a girl?\n",
        "def is_seema_a_girl():\n",
        "    return knowledge_base['is_a'].get('Seema') == 'Girl'\n",
        "\n",
        "# Query 2: Does Bill like someone?\n",
        "def who_does_bill_like():\n",
        "    return knowledge_base['likes'].get('Bill', None)\n",
        "\n",
        "# Query 3: What color is Rose?\n",
        "def color_of_rose():\n",
        "    return knowledge_base['color'].get('Rose', None)\n",
        "\n",
        "# Run the queries\n",
        "print(\"Query: Is Seema a girl?\")\n",
        "print(\"Answer:\", \"Yes\" if is_seema_a_girl() else \"No\")\n",
        "\n",
        "print(\"\\nQuery: Does Bill like someone?\")\n",
        "bill_likes = who_does_bill_like()\n",
        "print(\"Answer:\", f\"Yes, Bill likes {bill_likes}\" if bill_likes else \"No\")\n",
        "\n",
        "print(\"\\nQuery: What color is Rose?\")\n",
        "rose_color = color_of_rose()\n",
        "print(\"Answer:\", f\"Rose is {rose_color}\" if rose_color else \"Unknown\")\n"
      ],
      "metadata": {
        "colab": {
          "base_uri": "https://localhost:8080/"
        },
        "id": "cpzyDK5PVaxp",
        "outputId": "b71f684d-8603-4f17-b93f-cc4d6410ad72"
      },
      "execution_count": null,
      "outputs": [
        {
          "output_type": "stream",
          "name": "stdout",
          "text": [
            "Query: Is Seema a girl?\n",
            "Answer: Yes\n",
            "\n",
            "Query: Does Bill like someone?\n",
            "Answer: Yes, Bill likes Cindy\n",
            "\n",
            "Query: What color is Rose?\n",
            "Answer: Rose is Red\n"
          ]
        }
      ]
    }
  ]
}